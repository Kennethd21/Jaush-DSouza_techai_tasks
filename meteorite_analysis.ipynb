{
 "cells": [
  {
   "cell_type": "markdown",
   "metadata": {},
   "source": [
    "# Task 2: Exploratory Data Analysis of Meteorite Landings"
   ]
  },
  {
   "cell_type": "markdown",
   "metadata": {},
   "source": [
    "## Step 1: The Setup (Loading and Inspecting the Data)"
   ]
  },
  {
   "cell_type": "code",
   "execution_count": 1,
   "metadata": {
    "execution": {
     "iopub.execute_input": "2025-10-05T06:01:17.385365Z",
     "iopub.status.busy": "2025-10-05T06:01:17.385019Z",
     "iopub.status.idle": "2025-10-05T06:01:20.085405Z",
     "shell.execute_reply": "2025-10-05T06:01:20.084024Z"
    }
   },
   "outputs": [],
   "source": [
    "import pandas as pd\n",
    "import numpy as np\n",
    "import matplotlib.pyplot as plt\n",
    "import seaborn as sns\n",
    "import folium"
   ]
  },
  {
   "cell_type": "markdown",
   "metadata": {},
   "source": [
    "Load the .csv file into a Pandas DataFrame."
   ]
  },
  {
   "cell_type": "code",
   "execution_count": 2,
   "metadata": {
    "execution": {
     "iopub.execute_input": "2025-10-05T06:01:20.090089Z",
     "iopub.status.busy": "2025-10-05T06:01:20.089504Z",
     "iopub.status.idle": "2025-10-05T06:01:20.389607Z",
     "shell.execute_reply": "2025-10-05T06:01:20.388132Z"
    }
   },
   "outputs": [],
   "source": [
    "df = pd.read_csv('meteorite-landings.csv')"
   ]
  },
  {
   "cell_type": "code",
   "execution_count": 3,
   "metadata": {
    "execution": {
     "iopub.execute_input": "2025-10-05T06:01:20.393835Z",
     "iopub.status.busy": "2025-10-05T06:01:20.393483Z",
     "iopub.status.idle": "2025-10-05T06:01:20.401526Z",
     "shell.execute_reply": "2025-10-05T06:01:20.400274Z"
    }
   },
   "outputs": [],
   "source": [
    "df.rename(columns={'mass (g)': 'mass'}, inplace=True)"
   ]
  },
  {
   "cell_type": "markdown",
   "metadata": {},
   "source": [
    "Inspect the first few rows using `.head()`."
   ]
  },
  {
   "cell_type": "code",
   "execution_count": 4,
   "metadata": {
    "execution": {
     "iopub.execute_input": "2025-10-05T06:01:20.405274Z",
     "iopub.status.busy": "2025-10-05T06:01:20.404871Z",
     "iopub.status.idle": "2025-10-05T06:01:20.429746Z",
     "shell.execute_reply": "2025-10-05T06:01:20.428335Z"
    }
   },
   "outputs": [
    {
     "data": {
      "text/html": [
       "<div>\n",
       "<style scoped>\n",
       "    .dataframe tbody tr th:only-of-type {\n",
       "        vertical-align: middle;\n",
       "    }\n",
       "\n",
       "    .dataframe tbody tr th {\n",
       "        vertical-align: top;\n",
       "    }\n",
       "\n",
       "    .dataframe thead th {\n",
       "        text-align: right;\n",
       "    }\n",
       "</style>\n",
       "<table border=\"1\" class=\"dataframe\">\n",
       "  <thead>\n",
       "    <tr style=\"text-align: right;\">\n",
       "      <th></th>\n",
       "      <th>name</th>\n",
       "      <th>id</th>\n",
       "      <th>nametype</th>\n",
       "      <th>recclass</th>\n",
       "      <th>mass</th>\n",
       "      <th>fall</th>\n",
       "      <th>year</th>\n",
       "      <th>reclat</th>\n",
       "      <th>reclong</th>\n",
       "      <th>GeoLocation</th>\n",
       "    </tr>\n",
       "  </thead>\n",
       "  <tbody>\n",
       "    <tr>\n",
       "      <th>0</th>\n",
       "      <td>Aachen</td>\n",
       "      <td>1</td>\n",
       "      <td>Valid</td>\n",
       "      <td>L5</td>\n",
       "      <td>21.0</td>\n",
       "      <td>Fell</td>\n",
       "      <td>1880.0</td>\n",
       "      <td>50.77500</td>\n",
       "      <td>6.08333</td>\n",
       "      <td>(50.775, 6.08333)</td>\n",
       "    </tr>\n",
       "    <tr>\n",
       "      <th>1</th>\n",
       "      <td>Aarhus</td>\n",
       "      <td>2</td>\n",
       "      <td>Valid</td>\n",
       "      <td>H6</td>\n",
       "      <td>720.0</td>\n",
       "      <td>Fell</td>\n",
       "      <td>1951.0</td>\n",
       "      <td>56.18333</td>\n",
       "      <td>10.23333</td>\n",
       "      <td>(56.18333, 10.23333)</td>\n",
       "    </tr>\n",
       "    <tr>\n",
       "      <th>2</th>\n",
       "      <td>Abee</td>\n",
       "      <td>6</td>\n",
       "      <td>Valid</td>\n",
       "      <td>EH4</td>\n",
       "      <td>107000.0</td>\n",
       "      <td>Fell</td>\n",
       "      <td>1952.0</td>\n",
       "      <td>54.21667</td>\n",
       "      <td>-113.00000</td>\n",
       "      <td>(54.21667, -113.0)</td>\n",
       "    </tr>\n",
       "    <tr>\n",
       "      <th>3</th>\n",
       "      <td>Acapulco</td>\n",
       "      <td>10</td>\n",
       "      <td>Valid</td>\n",
       "      <td>Acapulcoite</td>\n",
       "      <td>1914.0</td>\n",
       "      <td>Fell</td>\n",
       "      <td>1976.0</td>\n",
       "      <td>16.88333</td>\n",
       "      <td>-99.90000</td>\n",
       "      <td>(16.88333, -99.9)</td>\n",
       "    </tr>\n",
       "    <tr>\n",
       "      <th>4</th>\n",
       "      <td>Achiras</td>\n",
       "      <td>370</td>\n",
       "      <td>Valid</td>\n",
       "      <td>L6</td>\n",
       "      <td>780.0</td>\n",
       "      <td>Fell</td>\n",
       "      <td>1902.0</td>\n",
       "      <td>-33.16667</td>\n",
       "      <td>-64.95000</td>\n",
       "      <td>(-33.16667, -64.95)</td>\n",
       "    </tr>\n",
       "  </tbody>\n",
       "</table>\n",
       "</div>"
      ],
      "text/plain": [
       "       name   id nametype     recclass      mass  fall    year    reclat  \\\n",
       "0    Aachen    1    Valid           L5      21.0  Fell  1880.0  50.77500   \n",
       "1    Aarhus    2    Valid           H6     720.0  Fell  1951.0  56.18333   \n",
       "2      Abee    6    Valid          EH4  107000.0  Fell  1952.0  54.21667   \n",
       "3  Acapulco   10    Valid  Acapulcoite    1914.0  Fell  1976.0  16.88333   \n",
       "4   Achiras  370    Valid           L6     780.0  Fell  1902.0 -33.16667   \n",
       "\n",
       "     reclong           GeoLocation  \n",
       "0    6.08333     (50.775, 6.08333)  \n",
       "1   10.23333  (56.18333, 10.23333)  \n",
       "2 -113.00000    (54.21667, -113.0)  \n",
       "3  -99.90000     (16.88333, -99.9)  \n",
       "4  -64.95000   (-33.16667, -64.95)  "
      ]
     },
     "execution_count": 4,
     "metadata": {},
     "output_type": "execute_result"
    }
   ],
   "source": [
    "df.head()"
   ]
  },
  {
   "cell_type": "markdown",
   "metadata": {},
   "source": [
    "Get a summary of the data using `.info()`."
   ]
  },
  {
   "cell_type": "code",
   "execution_count": 5,
   "metadata": {
    "execution": {
     "iopub.execute_input": "2025-10-05T06:01:20.605212Z",
     "iopub.status.busy": "2025-10-05T06:01:20.604764Z",
     "iopub.status.idle": "2025-10-05T06:01:20.636808Z",
     "shell.execute_reply": "2025-10-05T06:01:20.635340Z"
    }
   },
   "outputs": [
    {
     "name": "stdout",
     "output_type": "stream",
     "text": [
      "<class 'pandas.core.frame.DataFrame'>\n",
      "RangeIndex: 45716 entries, 0 to 45715\n",
      "Data columns (total 10 columns):\n",
      " #   Column       Non-Null Count  Dtype  \n",
      "---  ------       --------------  -----  \n",
      " 0   name         45716 non-null  object \n",
      " 1   id           45716 non-null  int64  \n",
      " 2   nametype     45716 non-null  object \n",
      " 3   recclass     45716 non-null  object \n",
      " 4   mass         45585 non-null  float64\n",
      " 5   fall         45716 non-null  object \n",
      " 6   year         45425 non-null  float64\n",
      " 7   reclat       38401 non-null  float64\n",
      " 8   reclong      38401 non-null  float64\n",
      " 9   GeoLocation  38401 non-null  object \n",
      "dtypes: float64(4), int64(1), object(5)\n",
      "memory usage: 3.5+ MB\n"
     ]
    }
   ],
   "source": [
    "df.info()"
   ]
  },
  {
   "cell_type": "markdown",
   "metadata": {},
   "source": [
    "Generate descriptive statistics for `mass`, `year`, `reclat`, and `reclong` using `.describe()`."
   ]
  },
  {
   "cell_type": "code",
   "execution_count": 6,
   "metadata": {
    "execution": {
     "iopub.execute_input": "2025-10-05T06:01:20.640829Z",
     "iopub.status.busy": "2025-10-05T06:01:20.640391Z",
     "iopub.status.idle": "2025-10-05T06:01:20.744080Z",
     "shell.execute_reply": "2025-10-05T06:01:20.743041Z"
    }
   },
   "outputs": [
    {
     "data": {
      "text/html": [
       "<div>\n",
       "<style scoped>\n",
       "    .dataframe tbody tr th:only-of-type {\n",
       "        vertical-align: middle;\n",
       "    }\n",
       "\n",
       "    .dataframe tbody tr th {\n",
       "        vertical-align: top;\n",
       "    }\n",
       "\n",
       "    .dataframe thead th {\n",
       "        text-align: right;\n",
       "    }\n",
       "</style>\n",
       "<table border=\"1\" class=\"dataframe\">\n",
       "  <thead>\n",
       "    <tr style=\"text-align: right;\">\n",
       "      <th></th>\n",
       "      <th>name</th>\n",
       "      <th>id</th>\n",
       "      <th>nametype</th>\n",
       "      <th>recclass</th>\n",
       "      <th>mass</th>\n",
       "      <th>fall</th>\n",
       "      <th>year</th>\n",
       "      <th>reclat</th>\n",
       "      <th>reclong</th>\n",
       "      <th>GeoLocation</th>\n",
       "    </tr>\n",
       "  </thead>\n",
       "  <tbody>\n",
       "    <tr>\n",
       "      <th>count</th>\n",
       "      <td>45716</td>\n",
       "      <td>45716.000000</td>\n",
       "      <td>45716</td>\n",
       "      <td>45716</td>\n",
       "      <td>4.558500e+04</td>\n",
       "      <td>45716</td>\n",
       "      <td>45425.000000</td>\n",
       "      <td>38401.000000</td>\n",
       "      <td>38401.000000</td>\n",
       "      <td>38401</td>\n",
       "    </tr>\n",
       "    <tr>\n",
       "      <th>unique</th>\n",
       "      <td>45716</td>\n",
       "      <td>NaN</td>\n",
       "      <td>2</td>\n",
       "      <td>466</td>\n",
       "      <td>NaN</td>\n",
       "      <td>2</td>\n",
       "      <td>NaN</td>\n",
       "      <td>NaN</td>\n",
       "      <td>NaN</td>\n",
       "      <td>17100</td>\n",
       "    </tr>\n",
       "    <tr>\n",
       "      <th>top</th>\n",
       "      <td>Aachen</td>\n",
       "      <td>NaN</td>\n",
       "      <td>Valid</td>\n",
       "      <td>L6</td>\n",
       "      <td>NaN</td>\n",
       "      <td>Found</td>\n",
       "      <td>NaN</td>\n",
       "      <td>NaN</td>\n",
       "      <td>NaN</td>\n",
       "      <td>(0.0, 0.0)</td>\n",
       "    </tr>\n",
       "    <tr>\n",
       "      <th>freq</th>\n",
       "      <td>1</td>\n",
       "      <td>NaN</td>\n",
       "      <td>45641</td>\n",
       "      <td>8285</td>\n",
       "      <td>NaN</td>\n",
       "      <td>44609</td>\n",
       "      <td>NaN</td>\n",
       "      <td>NaN</td>\n",
       "      <td>NaN</td>\n",
       "      <td>6214</td>\n",
       "    </tr>\n",
       "    <tr>\n",
       "      <th>mean</th>\n",
       "      <td>NaN</td>\n",
       "      <td>26889.735104</td>\n",
       "      <td>NaN</td>\n",
       "      <td>NaN</td>\n",
       "      <td>1.327808e+04</td>\n",
       "      <td>NaN</td>\n",
       "      <td>1991.828817</td>\n",
       "      <td>-39.122580</td>\n",
       "      <td>61.074319</td>\n",
       "      <td>NaN</td>\n",
       "    </tr>\n",
       "    <tr>\n",
       "      <th>std</th>\n",
       "      <td>NaN</td>\n",
       "      <td>16860.683030</td>\n",
       "      <td>NaN</td>\n",
       "      <td>NaN</td>\n",
       "      <td>5.749889e+05</td>\n",
       "      <td>NaN</td>\n",
       "      <td>25.052766</td>\n",
       "      <td>46.378511</td>\n",
       "      <td>80.647298</td>\n",
       "      <td>NaN</td>\n",
       "    </tr>\n",
       "    <tr>\n",
       "      <th>min</th>\n",
       "      <td>NaN</td>\n",
       "      <td>1.000000</td>\n",
       "      <td>NaN</td>\n",
       "      <td>NaN</td>\n",
       "      <td>0.000000e+00</td>\n",
       "      <td>NaN</td>\n",
       "      <td>860.000000</td>\n",
       "      <td>-87.366670</td>\n",
       "      <td>-165.433330</td>\n",
       "      <td>NaN</td>\n",
       "    </tr>\n",
       "    <tr>\n",
       "      <th>25%</th>\n",
       "      <td>NaN</td>\n",
       "      <td>12688.750000</td>\n",
       "      <td>NaN</td>\n",
       "      <td>NaN</td>\n",
       "      <td>7.200000e+00</td>\n",
       "      <td>NaN</td>\n",
       "      <td>1987.000000</td>\n",
       "      <td>-76.714240</td>\n",
       "      <td>0.000000</td>\n",
       "      <td>NaN</td>\n",
       "    </tr>\n",
       "    <tr>\n",
       "      <th>50%</th>\n",
       "      <td>NaN</td>\n",
       "      <td>24261.500000</td>\n",
       "      <td>NaN</td>\n",
       "      <td>NaN</td>\n",
       "      <td>3.260000e+01</td>\n",
       "      <td>NaN</td>\n",
       "      <td>1998.000000</td>\n",
       "      <td>-71.500000</td>\n",
       "      <td>35.666670</td>\n",
       "      <td>NaN</td>\n",
       "    </tr>\n",
       "    <tr>\n",
       "      <th>75%</th>\n",
       "      <td>NaN</td>\n",
       "      <td>40656.750000</td>\n",
       "      <td>NaN</td>\n",
       "      <td>NaN</td>\n",
       "      <td>2.026000e+02</td>\n",
       "      <td>NaN</td>\n",
       "      <td>2003.000000</td>\n",
       "      <td>0.000000</td>\n",
       "      <td>157.166670</td>\n",
       "      <td>NaN</td>\n",
       "    </tr>\n",
       "    <tr>\n",
       "      <th>max</th>\n",
       "      <td>NaN</td>\n",
       "      <td>57458.000000</td>\n",
       "      <td>NaN</td>\n",
       "      <td>NaN</td>\n",
       "      <td>6.000000e+07</td>\n",
       "      <td>NaN</td>\n",
       "      <td>2101.000000</td>\n",
       "      <td>81.166670</td>\n",
       "      <td>354.473330</td>\n",
       "      <td>NaN</td>\n",
       "    </tr>\n",
       "  </tbody>\n",
       "</table>\n",
       "</div>"
      ],
      "text/plain": [
       "          name            id nametype recclass          mass   fall  \\\n",
       "count    45716  45716.000000    45716    45716  4.558500e+04  45716   \n",
       "unique   45716           NaN        2      466           NaN      2   \n",
       "top     Aachen           NaN    Valid       L6           NaN  Found   \n",
       "freq         1           NaN    45641     8285           NaN  44609   \n",
       "mean       NaN  26889.735104      NaN      NaN  1.327808e+04    NaN   \n",
       "std        NaN  16860.683030      NaN      NaN  5.749889e+05    NaN   \n",
       "min        NaN      1.000000      NaN      NaN  0.000000e+00    NaN   \n",
       "25%        NaN  12688.750000      NaN      NaN  7.200000e+00    NaN   \n",
       "50%        NaN  24261.500000      NaN      NaN  3.260000e+01    NaN   \n",
       "75%        NaN  40656.750000      NaN      NaN  2.026000e+02    NaN   \n",
       "max        NaN  57458.000000      NaN      NaN  6.000000e+07    NaN   \n",
       "\n",
       "                year        reclat       reclong GeoLocation  \n",
       "count   45425.000000  38401.000000  38401.000000       38401  \n",
       "unique           NaN           NaN           NaN       17100  \n",
       "top              NaN           NaN           NaN  (0.0, 0.0)  \n",
       "freq             NaN           NaN           NaN        6214  \n",
       "mean     1991.828817    -39.122580     61.074319         NaN  \n",
       "std        25.052766     46.378511     80.647298         NaN  \n",
       "min       860.000000    -87.366670   -165.433330         NaN  \n",
       "25%      1987.000000    -76.714240      0.000000         NaN  \n",
       "50%      1998.000000    -71.500000     35.666670         NaN  \n",
       "75%      2003.000000      0.000000    157.166670         NaN  \n",
       "max      2101.000000     81.166670    354.473330         NaN  "
      ]
     },
     "execution_count": 6,
     "metadata": {},
     "output_type": "execute_result"
    }
   ],
   "source": [
    "df.describe(include='all')"
   ]
  },
  {
   "cell_type": "markdown",
   "metadata": {},
   "source": [
    "## Step 2: The Cleanup Crew (Data Cleaning and Preparation)"
   ]
  },
  {
   "cell_type": "markdown",
   "metadata": {},
   "source": [
    "### Handle Missing Values"
   ]
  },
  {
   "cell_type": "code",
   "execution_count": 7,
   "metadata": {
    "execution": {
     "iopub.execute_input": "2025-10-05T06:01:20.748374Z",
     "iopub.status.busy": "2025-10-05T06:01:20.747982Z",
     "iopub.status.idle": "2025-10-05T06:01:20.763886Z",
     "shell.execute_reply": "2025-10-05T06:01:20.762650Z"
    }
   },
   "outputs": [],
   "source": [
    "df_cleaned = df.dropna(subset=['mass', 'year', 'reclat', 'reclong']).copy()"
   ]
  },
  {
   "cell_type": "markdown",
   "metadata": {},
   "source": [
    "### Filter Out Erroneous Data"
   ]
  },
  {
   "cell_type": "code",
   "execution_count": 8,
   "metadata": {
    "execution": {
     "iopub.execute_input": "2025-10-05T06:01:20.767842Z",
     "iopub.status.busy": "2025-10-05T06:01:20.767509Z",
     "iopub.status.idle": "2025-10-05T06:01:20.795875Z",
     "shell.execute_reply": "2025-10-05T06:01:20.794607Z"
    }
   },
   "outputs": [],
   "source": [
    "# Filter out meteorites with a mass of 0 or less\n",
    "df_cleaned = df_cleaned[df_cleaned['mass'] > 0]\n",
    "\n",
    "# Filter out invalid coordinates (0,0 is a common placeholder)\n",
    "df_cleaned = df_cleaned[~((df_cleaned['reclat'] == 0) & (df_cleaned['reclong'] == 0))]\n",
    "\n",
    "# Convert 'year' to a numeric type, coercing errors, then drop rows with NaN in 'year'\\ndf_cleaned['year'] = pd.to_numeric(df_cleaned['year'], errors='coerce')\\ndf_cleaned.dropna(subset=['year'], inplace=True)\n",
    "df_cleaned['year'] = df_cleaned['year'].astype(int)"
   ]
  },
  {
   "cell_type": "markdown",
   "metadata": {},
   "source": [
    "### Create New Columns"
   ]
  },
  {
   "cell_type": "code",
   "execution_count": 9,
   "metadata": {
    "execution": {
     "iopub.execute_input": "2025-10-05T06:01:20.799900Z",
     "iopub.status.busy": "2025-10-05T06:01:20.799552Z",
     "iopub.status.idle": "2025-10-05T06:01:20.806779Z",
     "shell.execute_reply": "2025-10-05T06:01:20.805632Z"
    }
   },
   "outputs": [],
   "source": [
    "df_cleaned['mass_kg'] = df_cleaned['mass'] / 1000"
   ]
  },
  {
   "cell_type": "markdown",
   "metadata": {},
   "source": [
    "### Inspect Cleaned Data"
   ]
  },
  {
   "cell_type": "code",
   "execution_count": 10,
   "metadata": {
    "execution": {
     "iopub.execute_input": "2025-10-05T06:01:20.810810Z",
     "iopub.status.busy": "2025-10-05T06:01:20.810448Z",
     "iopub.status.idle": "2025-10-05T06:01:20.860430Z",
     "shell.execute_reply": "2025-10-05T06:01:20.859306Z"
    }
   },
   "outputs": [
    {
     "name": "stdout",
     "output_type": "stream",
     "text": [
      "<class 'pandas.core.frame.DataFrame'>\n",
      "Index: 31911 entries, 0 to 45715\n",
      "Data columns (total 11 columns):\n",
      " #   Column       Non-Null Count  Dtype  \n",
      "---  ------       --------------  -----  \n",
      " 0   name         31911 non-null  object \n",
      " 1   id           31911 non-null  int64  \n",
      " 2   nametype     31911 non-null  object \n",
      " 3   recclass     31911 non-null  object \n",
      " 4   mass         31911 non-null  float64\n",
      " 5   fall         31911 non-null  object \n",
      " 6   year         31911 non-null  int64  \n",
      " 7   reclat       31911 non-null  float64\n",
      " 8   reclong      31911 non-null  float64\n",
      " 9   GeoLocation  31911 non-null  object \n",
      " 10  mass_kg      31911 non-null  float64\n",
      "dtypes: float64(4), int64(2), object(5)\n",
      "memory usage: 2.9+ MB\n"
     ]
    },
    {
     "data": {
      "text/html": [
       "<div>\n",
       "<style scoped>\n",
       "    .dataframe tbody tr th:only-of-type {\n",
       "        vertical-align: middle;\n",
       "    }\n",
       "\n",
       "    .dataframe tbody tr th {\n",
       "        vertical-align: top;\n",
       "    }\n",
       "\n",
       "    .dataframe thead th {\n",
       "        text-align: right;\n",
       "    }\n",
       "</style>\n",
       "<table border=\"1\" class=\"dataframe\">\n",
       "  <thead>\n",
       "    <tr style=\"text-align: right;\">\n",
       "      <th></th>\n",
       "      <th>id</th>\n",
       "      <th>mass</th>\n",
       "      <th>year</th>\n",
       "      <th>reclat</th>\n",
       "      <th>reclong</th>\n",
       "      <th>mass_kg</th>\n",
       "    </tr>\n",
       "  </thead>\n",
       "  <tbody>\n",
       "    <tr>\n",
       "      <th>count</th>\n",
       "      <td>31911.000000</td>\n",
       "      <td>3.191100e+04</td>\n",
       "      <td>31911.000000</td>\n",
       "      <td>31911.000000</td>\n",
       "      <td>31911.000000</td>\n",
       "      <td>31911.000000</td>\n",
       "    </tr>\n",
       "    <tr>\n",
       "      <th>mean</th>\n",
       "      <td>20760.535928</td>\n",
       "      <td>1.855334e+04</td>\n",
       "      <td>1986.983611</td>\n",
       "      <td>-47.325541</td>\n",
       "      <td>73.217418</td>\n",
       "      <td>18.553345</td>\n",
       "    </tr>\n",
       "    <tr>\n",
       "      <th>std</th>\n",
       "      <td>14906.364706</td>\n",
       "      <td>6.870431e+05</td>\n",
       "      <td>26.723522</td>\n",
       "      <td>46.668084</td>\n",
       "      <td>83.196982</td>\n",
       "      <td>687.043060</td>\n",
       "    </tr>\n",
       "    <tr>\n",
       "      <th>min</th>\n",
       "      <td>1.000000</td>\n",
       "      <td>1.000000e-02</td>\n",
       "      <td>860.000000</td>\n",
       "      <td>-87.366670</td>\n",
       "      <td>-165.433330</td>\n",
       "      <td>0.000010</td>\n",
       "    </tr>\n",
       "    <tr>\n",
       "      <th>25%</th>\n",
       "      <td>9241.500000</td>\n",
       "      <td>6.500000e+00</td>\n",
       "      <td>1982.000000</td>\n",
       "      <td>-79.683330</td>\n",
       "      <td>26.000000</td>\n",
       "      <td>0.006500</td>\n",
       "    </tr>\n",
       "    <tr>\n",
       "      <th>50%</th>\n",
       "      <td>18613.000000</td>\n",
       "      <td>2.968000e+01</td>\n",
       "      <td>1991.000000</td>\n",
       "      <td>-72.000000</td>\n",
       "      <td>56.837750</td>\n",
       "      <td>0.029680</td>\n",
       "    </tr>\n",
       "    <tr>\n",
       "      <th>75%</th>\n",
       "      <td>27230.500000</td>\n",
       "      <td>2.021050e+02</td>\n",
       "      <td>2000.000000</td>\n",
       "      <td>18.321420</td>\n",
       "      <td>159.394165</td>\n",
       "      <td>0.202105</td>\n",
       "    </tr>\n",
       "    <tr>\n",
       "      <th>max</th>\n",
       "      <td>57455.000000</td>\n",
       "      <td>6.000000e+07</td>\n",
       "      <td>2013.000000</td>\n",
       "      <td>81.166670</td>\n",
       "      <td>178.200000</td>\n",
       "      <td>60000.000000</td>\n",
       "    </tr>\n",
       "  </tbody>\n",
       "</table>\n",
       "</div>"
      ],
      "text/plain": [
       "                 id          mass          year        reclat       reclong  \\\n",
       "count  31911.000000  3.191100e+04  31911.000000  31911.000000  31911.000000   \n",
       "mean   20760.535928  1.855334e+04   1986.983611    -47.325541     73.217418   \n",
       "std    14906.364706  6.870431e+05     26.723522     46.668084     83.196982   \n",
       "min        1.000000  1.000000e-02    860.000000    -87.366670   -165.433330   \n",
       "25%     9241.500000  6.500000e+00   1982.000000    -79.683330     26.000000   \n",
       "50%    18613.000000  2.968000e+01   1991.000000    -72.000000     56.837750   \n",
       "75%    27230.500000  2.021050e+02   2000.000000     18.321420    159.394165   \n",
       "max    57455.000000  6.000000e+07   2013.000000     81.166670    178.200000   \n",
       "\n",
       "            mass_kg  \n",
       "count  31911.000000  \n",
       "mean      18.553345  \n",
       "std      687.043060  \n",
       "min        0.000010  \n",
       "25%        0.006500  \n",
       "50%        0.029680  \n",
       "75%        0.202105  \n",
       "max    60000.000000  "
      ]
     },
     "execution_count": 10,
     "metadata": {},
     "output_type": "execute_result"
    }
   ],
   "source": [
    "df_cleaned.info()\n",
    "df_cleaned.describe()"
   ]
  },
  {
   "cell_type": "markdown",
   "metadata": {},
   "source": [
    "## Step 3: The Detective Work (Analysis and Insights)"
   ]
  },
  {
   "cell_type": "markdown",
   "metadata": {},
   "source": [
    "### Filtering & Sorting: Find the 10 heaviest meteorites."
   ]
  },
  {
   "cell_type": "code",
   "execution_count": 11,
   "metadata": {
    "execution": {
     "iopub.execute_input": "2025-10-05T06:01:20.864098Z",
     "iopub.status.busy": "2025-10-05T06:01:20.863752Z",
     "iopub.status.idle": "2025-10-05T06:01:20.884743Z",
     "shell.execute_reply": "2025-10-05T06:01:20.883530Z"
    }
   },
   "outputs": [
    {
     "data": {
      "text/html": [
       "<div>\n",
       "<style scoped>\n",
       "    .dataframe tbody tr th:only-of-type {\n",
       "        vertical-align: middle;\n",
       "    }\n",
       "\n",
       "    .dataframe tbody tr th {\n",
       "        vertical-align: top;\n",
       "    }\n",
       "\n",
       "    .dataframe thead th {\n",
       "        text-align: right;\n",
       "    }\n",
       "</style>\n",
       "<table border=\"1\" class=\"dataframe\">\n",
       "  <thead>\n",
       "    <tr style=\"text-align: right;\">\n",
       "      <th></th>\n",
       "      <th>name</th>\n",
       "      <th>mass_kg</th>\n",
       "    </tr>\n",
       "  </thead>\n",
       "  <tbody>\n",
       "    <tr>\n",
       "      <th>16392</th>\n",
       "      <td>Hoba</td>\n",
       "      <td>60000.0</td>\n",
       "    </tr>\n",
       "    <tr>\n",
       "      <th>5373</th>\n",
       "      <td>Cape York</td>\n",
       "      <td>58200.0</td>\n",
       "    </tr>\n",
       "    <tr>\n",
       "      <th>5365</th>\n",
       "      <td>Campo del Cielo</td>\n",
       "      <td>50000.0</td>\n",
       "    </tr>\n",
       "    <tr>\n",
       "      <th>5370</th>\n",
       "      <td>Canyon Diablo</td>\n",
       "      <td>30000.0</td>\n",
       "    </tr>\n",
       "    <tr>\n",
       "      <th>3455</th>\n",
       "      <td>Armanty</td>\n",
       "      <td>28000.0</td>\n",
       "    </tr>\n",
       "    <tr>\n",
       "      <th>12613</th>\n",
       "      <td>Gibeon</td>\n",
       "      <td>26000.0</td>\n",
       "    </tr>\n",
       "    <tr>\n",
       "      <th>5468</th>\n",
       "      <td>Chupaderos</td>\n",
       "      <td>24300.0</td>\n",
       "    </tr>\n",
       "    <tr>\n",
       "      <th>26297</th>\n",
       "      <td>Mundrabilla</td>\n",
       "      <td>24000.0</td>\n",
       "    </tr>\n",
       "    <tr>\n",
       "      <th>920</th>\n",
       "      <td>Sikhote-Alin</td>\n",
       "      <td>23000.0</td>\n",
       "    </tr>\n",
       "    <tr>\n",
       "      <th>5016</th>\n",
       "      <td>Bacubirito</td>\n",
       "      <td>22000.0</td>\n",
       "    </tr>\n",
       "  </tbody>\n",
       "</table>\n",
       "</div>"
      ],
      "text/plain": [
       "                  name  mass_kg\n",
       "16392             Hoba  60000.0\n",
       "5373         Cape York  58200.0\n",
       "5365   Campo del Cielo  50000.0\n",
       "5370     Canyon Diablo  30000.0\n",
       "3455           Armanty  28000.0\n",
       "12613           Gibeon  26000.0\n",
       "5468        Chupaderos  24300.0\n",
       "26297      Mundrabilla  24000.0\n",
       "920       Sikhote-Alin  23000.0\n",
       "5016        Bacubirito  22000.0"
      ]
     },
     "execution_count": 11,
     "metadata": {},
     "output_type": "execute_result"
    }
   ],
   "source": [
    "heaviest_10 = df_cleaned.nlargest(10, 'mass_kg')\n",
    "heaviest_10[['name', 'mass_kg']]"
   ]
  },
  {
   "cell_type": "markdown",
   "metadata": {},
   "source": [
    "### Grouping & Aggregation: Determine the count of Fell vs. Found meteorites and find the average mass for the most common classifications."
   ]
  },
  {
   "cell_type": "code",
   "execution_count": 12,
   "metadata": {
    "execution": {
     "iopub.execute_input": "2025-10-05T06:01:20.889435Z",
     "iopub.status.busy": "2025-10-05T06:01:20.889034Z",
     "iopub.status.idle": "2025-10-05T06:01:20.899349Z",
     "shell.execute_reply": "2025-10-05T06:01:20.898376Z"
    }
   },
   "outputs": [
    {
     "data": {
      "text/plain": [
       "fall\n",
       "Found    30847\n",
       "Fell      1064\n",
       "Name: count, dtype: int64"
      ]
     },
     "execution_count": 12,
     "metadata": {},
     "output_type": "execute_result"
    }
   ],
   "source": [
    "fall_counts = df_cleaned['fall'].value_counts()\n",
    "fall_counts"
   ]
  },
  {
   "cell_type": "code",
   "execution_count": 13,
   "metadata": {
    "execution": {
     "iopub.execute_input": "2025-10-05T06:01:20.902980Z",
     "iopub.status.busy": "2025-10-05T06:01:20.902649Z",
     "iopub.status.idle": "2025-10-05T06:01:20.925341Z",
     "shell.execute_reply": "2025-10-05T06:01:20.924086Z"
    }
   },
   "outputs": [
    {
     "data": {
      "text/plain": [
       "recclass\n",
       "L5      2.832226\n",
       "H5      2.563559\n",
       "L4      2.130273\n",
       "H4/5    1.758714\n",
       "L6      1.708344\n",
       "LL6     1.247387\n",
       "H6      1.112691\n",
       "H4      1.098060\n",
       "CM2     0.536110\n",
       "LL5     0.504137\n",
       "Name: mass_kg, dtype: float64"
      ]
     },
     "execution_count": 13,
     "metadata": {},
     "output_type": "execute_result"
    }
   ],
   "source": [
    "common_classifications = df_cleaned['recclass'].value_counts().nlargest(10).index\n",
    "avg_mass_by_class = df_cleaned[df_cleaned['recclass'].isin(common_classifications)].groupby('recclass')['mass_kg'].mean().sort_values(ascending=False)\n",
    "avg_mass_by_class"
   ]
  },
  {
   "cell_type": "markdown",
   "metadata": {},
   "source": [
    "### Time-Based Analysis: Group data by decade to analyze discovery trends."
   ]
  },
  {
   "cell_type": "code",
   "execution_count": 14,
   "metadata": {
    "execution": {
     "iopub.execute_input": "2025-10-05T06:01:20.929508Z",
     "iopub.status.busy": "2025-10-05T06:01:20.929093Z",
     "iopub.status.idle": "2025-10-05T06:01:20.941046Z",
     "shell.execute_reply": "2025-10-05T06:01:20.939779Z"
    }
   },
   "outputs": [
    {
     "data": {
      "text/plain": [
       "decade\n",
       "860        1\n",
       "1390       1\n",
       "1490       2\n",
       "1570       1\n",
       "1580       1\n",
       "1600       1\n",
       "1620       3\n",
       "1630       2\n",
       "1660       1\n",
       "1670       1\n",
       "1680       1\n",
       "1710       2\n",
       "1720       2\n",
       "1740       3\n",
       "1750       3\n",
       "1760       3\n",
       "1770       3\n",
       "1780       5\n",
       "1790      11\n",
       "1800      21\n",
       "1810      30\n",
       "1820      28\n",
       "1830      33\n",
       "1840      47\n",
       "1850      71\n",
       "1860      95\n",
       "1870      88\n",
       "1880     121\n",
       "1890     125\n",
       "1900     136\n",
       "1910     151\n",
       "1920     157\n",
       "1930     298\n",
       "1940     188\n",
       "1950     201\n",
       "1960     375\n",
       "1970    4954\n",
       "1980    6801\n",
       "1990    9061\n",
       "2000    8060\n",
       "2010     823\n",
       "dtype: int64"
      ]
     },
     "execution_count": 14,
     "metadata": {},
     "output_type": "execute_result"
    }
   ],
   "source": [
    "df_cleaned['decade'] = (df_cleaned['year'] // 10) * 10\n",
    "decade_counts = df_cleaned.groupby('decade').size()\n",
    "decade_counts"
   ]
  },
  {
   "cell_type": "markdown",
   "metadata": {},
   "source": [
    "### NumPy Operations: On the mass_kg column (as a NumPy array), calculate and explain the mean, median, std, sum, and max."
   ]
  },
  {
   "cell_type": "code",
   "execution_count": 15,
   "metadata": {
    "execution": {
     "iopub.execute_input": "2025-10-05T06:01:20.945060Z",
     "iopub.status.busy": "2025-10-05T06:01:20.944698Z",
     "iopub.status.idle": "2025-10-05T06:01:20.952513Z",
     "shell.execute_reply": "2025-10-05T06:01:20.951616Z"
    }
   },
   "outputs": [
    {
     "name": "stdout",
     "output_type": "stream",
     "text": [
      "Mean: 18.553344917896645\n",
      "Median: 0.029679999999999998\n",
      "Standard Deviation: 687.0322946310675\n",
      "Sum: 592055.7896749999\n",
      "Max: 60000.0\n"
     ]
    }
   ],
   "source": [
    "mass_np = df_cleaned['mass_kg'].to_numpy()\n",
    "print(f\"Mean: {np.mean(mass_np)}\")\n",
    "print(f\"Median: {np.median(mass_np)}\")\n",
    "print(f\"Standard Deviation: {np.std(mass_np)}\")\n",
    "print(f\"Sum: {np.sum(mass_np)}\")\n",
    "print(f\"Max: {np.max(mass_np)}\")"
   ]
  },
  {
   "cell_type": "markdown",
   "metadata": {},
   "source": [
    "## Step 4: Tell the Story (Visualization)"
   ]
  },
  {
   "cell_type": "markdown",
   "metadata": {},
   "source": [
    "### Bar Chart: Top 10 Heaviest Meteorites"
   ]
  },
  {
   "cell_type": "code",
   "execution_count": 16,
   "metadata": {
    "execution": {
     "iopub.execute_input": "2025-10-05T06:01:20.956199Z",
     "iopub.status.busy": "2025-10-05T06:01:20.955849Z",
     "iopub.status.idle": "2025-10-05T06:01:21.336009Z",
     "shell.execute_reply": "2025-10-05T06:01:21.334830Z"
    }
   },
   "outputs": [
    {
     "name": "stderr",
     "output_type": "stream",
     "text": [
      "/tmp/ipykernel_8014/2535066076.py:2: FutureWarning: \n",
      "\n",
      "Passing `palette` without assigning `hue` is deprecated and will be removed in v0.14.0. Assign the `y` variable to `hue` and set `legend=False` for the same effect.\n",
      "\n",
      "  sns.barplot(x='mass_kg', y='name', data=heaviest_10, palette='viridis')\n"
     ]
    },
    {
     "data": {
      "image/png": "[encoded data removed]",
      "text/plain": [
       "<Figure size 1200x600 with 1 Axes>"
      ]
     },
     "metadata": {},
     "output_type": "display_data"
    }
   ],
   "source": [
    "plt.figure(figsize=(12, 6))\n",
    "sns.barplot(x='mass_kg', y='name', data=heaviest_10, palette='viridis')\n",
    "plt.title('Top 10 Heaviest Meteorites')\n",
    "plt.xlabel('Mass (kg)')\n",
    "plt.ylabel('Meteorite Name')\n",
    "plt.show()"
   ]
  },
  {
   "cell_type": "markdown",
   "metadata": {},
   "source": [
    "### Pie Chart: Fell vs. Found Meteorites"
   ]
  },
  {
   "cell_type": "code",
   "execution_count": 17,
   "metadata": {
    "execution": {
     "iopub.execute_input": "2025-10-05T06:01:21.340301Z",
     "iopub.status.busy": "2025-10-05T06:01:21.339944Z",
     "iopub.status.idle": "2025-10-05T06:01:21.444387Z",
     "shell.execute_reply": "2025-10-05T06:01:21.443189Z"
    }
   },
   "outputs": [
    {
     "data": {
      "image/png": "[encoded data removed]",
      "text/plain": [
       "<Figure size 800x800 with 1 Axes>"
      ]
     },
     "metadata": {},
     "output_type": "display_data"
    }
   ],
   "source": [
    "plt.figure(figsize=(8, 8))\n",
    "plt.pie(fall_counts, labels=fall_counts.index, autopct='%1.1f%%', startangle=140, colors=['#66b3ff','#99ff99'])\n",
    "plt.title('Proportion of Fell vs. Found Meteorites')\n",
    "plt.ylabel('')\n",
    "plt.show()"
   ]
  },
  {
   "cell_type": "markdown",
   "metadata": {},
   "source": [
    "### Bar Chart: Average Mass for Most Common Classifications"
   ]
  },
  {
   "cell_type": "code",
   "execution_count": 18,
   "metadata": {
    "execution": {
     "iopub.execute_input": "2025-10-05T06:01:21.448797Z",
     "iopub.status.busy": "2025-10-05T06:01:21.448332Z",
     "iopub.status.idle": "2025-10-05T06:01:21.746749Z",
     "shell.execute_reply": "2025-10-05T06:01:21.745583Z"
    }
   },
   "outputs": [
    {
     "name": "stderr",
     "output_type": "stream",
     "text": [
      "/tmp/ipykernel_8014/1137255777.py:2: FutureWarning: \n",
      "\n",
      "Passing `palette` without assigning `hue` is deprecated and will be removed in v0.14.0. Assign the `x` variable to `hue` and set `legend=False` for the same effect.\n",
      "\n",
      "  sns.barplot(x=avg_mass_by_class.index, y=avg_mass_by_class.values, palette='plasma')\n"
     ]
    },
    {
     "data": {
      "image/png": "[encoded data removed]",
      "text/plain": [
       "<Figure size 1200x600 with 1 Axes>"
      ]
     },
     "metadata": {},
     "output_type": "display_data"
    }
   ],
   "source": [
    "plt.figure(figsize=(12, 6))\n",
    "sns.barplot(x=avg_mass_by_class.index, y=avg_mass_by_class.values, palette='plasma')\n",
    "plt.title('Average Mass for Top 10 Most Common Meteorite Classifications')\n",
    "plt.xlabel('Classification')\n",
    "plt.ylabel('Average Mass (kg)')\n",
    "plt.xticks(rotation=45)\n",
    "plt.show()"
   ]
  },
  {
   "cell_type": "markdown",
   "metadata": {},
   "source": [
    "### Line Chart: Meteorite Discoveries by Decade"
   ]
  },
  {
   "cell_type": "code",
   "execution_count": 19,
   "metadata": {
    "execution": {
     "iopub.execute_input": "2025-10-05T06:01:21.750329Z",
     "iopub.status.busy": "2025-10-05T06:01:21.749991Z",
     "iopub.status.idle": "2025-10-05T06:01:21.957561Z",
     "shell.execute_reply": "2025-10-05T06:01:21.956337Z"
    }
   },
   "outputs": [
    {
     "data": {
      "image/png": "[encoded data removed]",
      "text/plain": [
       "<Figure size 1200x600 with 1 Axes>"
      ]
     },
     "metadata": {},
     "output_type": "display_data"
    }
   ],
   "source": [
    "plt.figure(figsize=(12, 6))\n",
    "decade_counts.plot(kind='line', marker='o')\n",
    "plt.title('Number of Meteorites Found per Decade')\n",
    "plt.xlabel('Decade')\n",
    "plt.ylabel('Number of Meteorites')\n",
    "plt.grid(True)\n",
    "plt.show()"
   ]
  },
  {
   "cell_type": "markdown",
   "metadata": {},
   "source": [
    "## Bonus Challenge: Interactive Geospatial Mapping"
   ]
  },
  {
   "cell_type": "code",
   "execution_count": 20,
   "metadata": {
    "execution": {
     "iopub.execute_input": "2025-10-05T06:01:21.961528Z",
     "iopub.status.busy": "2025-10-05T06:01:21.961176Z",
     "iopub.status.idle": "2025-10-05T06:01:21.966110Z",
     "shell.execute_reply": "2025-10-05T06:01:21.964952Z"
    }
   },
   "outputs": [],
   "source": [
    "# Create a map centered around the mean latitude and longitudem = folium.Map(location=[df_cleaned['reclat'].mean(), df_cleaned['reclong'].mean()], zoom_start=2)# Create a smaller sample for the map to keep the notebook size manageabledf_sample = df_cleaned.sample(n=500, random_state=42)# Add markers for each meteorite landingfor idx, row in df_sample.iterrows():    folium.Marker(        location=[row['reclat'], row['reclong']],        popup=f\"{row['name']} ({row['year']}) - {row['mass_kg']:.2f} kg\",        tooltip=row['name']    ).add_to(m)# Display the mapm"
   ]
  },
  {
   "cell_type": "markdown",
   "metadata": {},
   "source": [
    "## Conclusion"
   ]
  },
  {
   "cell_type": "markdown",
   "metadata": {},
   "source": [
    "This exploratory data analysis of the meteorite landings dataset has yielded several key insights:\n",
    "\n",
    "- **Mass Distribution:** The vast majority of meteorites are relatively small, with a few exceptionally large outliers. The heaviest meteorite, Hoba, is significantly more massive than the others.\n",
    "- **Fell vs. Found:** A significantly larger number of meteorites are found rather than observed falling. This suggests that many meteorites land unnoticed and are discovered later.\n",
    "- **Common Classifications:** The most common meteorite classifications (e.g., L6, H5) have varying average masses, with some of the less common types having a higher average mass.\n",
    "- **Discovery Trends:** The number of meteorite discoveries has increased dramatically over time, particularly in the latter half of the 20th century. This is likely due to advances in technology and increased interest in meteorite hunting.\n",
    "- **Geospatial Distribution:** Meteorite landings are distributed across the globe, with some clustering in specific regions. The interactive map provides a powerful tool for exploring these patterns."
   ]
  }
 ],
 "metadata": {
  "kernelspec": {
   "display_name": "Python 3",
   "language": "python",
   "name": "python3"
  },
  "language_info": {
   "codemirror_mode": {
    "name": "ipython",
    "version": 3
   },
   "file_extension": ".py",
   "mimetype": "text/x-python",
   "name": "python",
   "nbconvert_exporter": "python",
   "pygments_lexer": "ipython3",
   "version": "3.12.11"
  }
 },
 "nbformat": 4,
 "nbformat_minor": 2
}
